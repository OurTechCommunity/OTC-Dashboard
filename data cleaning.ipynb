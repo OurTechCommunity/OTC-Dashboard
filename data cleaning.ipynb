{
 "cells": [
  {
   "cell_type": "code",
   "execution_count": 1,
   "id": "9dd8ae21",
   "metadata": {},
   "outputs": [],
   "source": [
    "import pandas as pd"
   ]
  },
  {
   "cell_type": "code",
   "execution_count": 2,
   "id": "84e95380",
   "metadata": {},
   "outputs": [],
   "source": [
    "df1 = pd.read_csv('otc.csv')"
   ]
  },
  {
   "cell_type": "code",
   "execution_count": 3,
   "id": "e8bb27ff",
   "metadata": {},
   "outputs": [],
   "source": [
    "df2 = pd.read_csv('old_otcs.csv')"
   ]
  },
  {
   "cell_type": "code",
   "execution_count": 4,
   "id": "888a68f8",
   "metadata": {
    "scrolled": false
   },
   "outputs": [],
   "source": [
    "duration_final = []                         \n",
    "for i in range(df1.shape[0]):\n",
    "    duration_list = df1['Duration'][i].split(' ')\n",
    "    duration_final.append(round((int(duration_list[0])*60 + int(duration_list[2]))/60, 2)) #Converting duration to float\n",
    "df1['Duration'] = duration_final"
   ]
  },
  {
   "cell_type": "code",
   "execution_count": 5,
   "id": "a72663ba",
   "metadata": {},
   "outputs": [],
   "source": [
    "data = pd.concat([df2, df1]).reset_index()"
   ]
  },
  {
   "cell_type": "code",
   "execution_count": 6,
   "id": "fce8435f",
   "metadata": {},
   "outputs": [],
   "source": [
    "data.drop(['Unnamed: 0', 'index'], axis = 1, inplace=True)"
   ]
  },
  {
   "cell_type": "code",
   "execution_count": 7,
   "id": "93439986",
   "metadata": {},
   "outputs": [],
   "source": [
    "data.fillna('', inplace=True)"
   ]
  },
  {
   "cell_type": "code",
   "execution_count": 8,
   "id": "a871fee5",
   "metadata": {},
   "outputs": [],
   "source": [
    "attendees = ''\n",
    "for i in range(data.shape[0]):\n",
    "    attendees = attendees + ', ' + data.iloc[i,3]"
   ]
  },
  {
   "cell_type": "code",
   "execution_count": 9,
   "id": "468fcea9",
   "metadata": {},
   "outputs": [],
   "source": [
    "data.to_csv('otc_final.csv')   # One of the tables used for visualization"
   ]
  },
  {
   "cell_type": "code",
   "execution_count": 10,
   "id": "86243450",
   "metadata": {},
   "outputs": [],
   "source": [
    "attendees = attendees.split(', ')"
   ]
  },
  {
   "cell_type": "code",
   "execution_count": 11,
   "id": "0d370252",
   "metadata": {},
   "outputs": [],
   "source": [
    "attendees = [i for i in attendees if i!='']"
   ]
  },
  {
   "cell_type": "code",
   "execution_count": 12,
   "id": "1cfd859b",
   "metadata": {},
   "outputs": [],
   "source": [
    "df = pd.DataFrame({'Number':list(data.iloc[:, 0])})"
   ]
  },
  {
   "cell_type": "code",
   "execution_count": 13,
   "id": "6795a5cc",
   "metadata": {},
   "outputs": [],
   "source": [
    "for name in set(attendees):\n",
    "    attendance = []\n",
    "    for i in range(data.shape[0]):\n",
    "        if name in data.iloc[i, 3]:\n",
    "            attendance.append(1)\n",
    "        else:\n",
    "            attendance.append(0)\n",
    "    df[name] = attendance"
   ]
  },
  {
   "cell_type": "code",
   "execution_count": 14,
   "id": "2a433036",
   "metadata": {},
   "outputs": [],
   "source": [
    "df = df.append(df.sum(axis=0).to_dict(), ignore_index=True)"
   ]
  },
  {
   "cell_type": "code",
   "execution_count": 15,
   "id": "c380ce1d",
   "metadata": {},
   "outputs": [],
   "source": [
    "df.to_csv('otc_attendees.csv') # Attendees as per catchup number"
   ]
  },
  {
   "cell_type": "code",
   "execution_count": 16,
   "id": "1a9ccd44",
   "metadata": {},
   "outputs": [],
   "source": [
    "df_transposed = df.transpose()\n",
    "df_transposed.to_csv('otc_attendees_transposed.csv') # Names of attendees and catchups attended as columns"
   ]
  },
  {
   "cell_type": "code",
   "execution_count": 17,
   "id": "1e579d49",
   "metadata": {},
   "outputs": [],
   "source": [
    "projects = ''\n",
    "for i in range(data.shape[0]):\n",
    "    projects = projects + ', ' + data.iloc[i,4]\n",
    "\n",
    "projects = projects.split(', ')"
   ]
  },
  {
   "cell_type": "code",
   "execution_count": 18,
   "id": "9a06f8b3",
   "metadata": {},
   "outputs": [],
   "source": [
    "projects = [i for i in projects if i!='']"
   ]
  },
  {
   "cell_type": "code",
   "execution_count": 19,
   "id": "f933c2d4",
   "metadata": {},
   "outputs": [],
   "source": [
    "dict = {}\n",
    "for i in set(projects):\n",
    "    if i in attendees:\n",
    "        dict.update({i:projects.count(i)})"
   ]
  },
  {
   "cell_type": "code",
   "execution_count": 20,
   "id": "dce480e2",
   "metadata": {},
   "outputs": [],
   "source": [
    "data = {'Name':dict.keys(),\n",
    "        'Number of projects':dict.values()}\n",
    "df1 = pd.DataFrame(data)\n",
    "df1.to_csv('projects.csv')   # Names of attendees with the number of projects showcased as columns"
   ]
  }
 ],
 "metadata": {
  "kernelspec": {
   "display_name": "Python 3 (ipykernel)",
   "language": "python",
   "name": "python3"
  },
  "language_info": {
   "codemirror_mode": {
    "name": "ipython",
    "version": 3
   },
   "file_extension": ".py",
   "mimetype": "text/x-python",
   "name": "python",
   "nbconvert_exporter": "python",
   "pygments_lexer": "ipython3",
   "version": "3.9.7"
  }
 },
 "nbformat": 4,
 "nbformat_minor": 5
}
