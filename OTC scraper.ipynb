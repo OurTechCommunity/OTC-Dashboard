{
 "cells": [
  {
   "cell_type": "code",
   "execution_count": 1,
   "id": "7480d391",
   "metadata": {},
   "outputs": [],
   "source": [
    "import time\n",
    "import urllib.request\n",
    "import urllib.parse\n",
    "import requests\n",
    "from bs4 import BeautifulSoup as _BeautifulSoup\n",
    "import csv\n",
    "from dotenv import load_dotenv\n",
    "import pandas as pd"
   ]
  },
  {
   "cell_type": "code",
   "execution_count": 2,
   "id": "0d10e186",
   "metadata": {},
   "outputs": [],
   "source": [
    "def create_csv():\n",
    "    with open(\"otc.csv\", \"a\", newline=\"\", encoding=\"utf-8\") as csv_file:\n",
    "        fieldnames = ['Number', 'Date', 'Duration', 'Attendees', 'Projects']\n",
    "        writer = csv.DictWriter(csv_file, fieldnames = fieldnames)\n",
    "        writer.writeheader()\n",
    "create_csv()"
   ]
  },
  {
   "cell_type": "code",
   "execution_count": 3,
   "id": "b8834288",
   "metadata": {
    "scrolled": true
   },
   "outputs": [],
   "source": [
    "def get_number(bs4_page):\n",
    "    number = bs4_page.find_all('h1')[0].contents[0].split('#')[1].split(' ')[0]\n",
    "    return number"
   ]
  },
  {
   "cell_type": "code",
   "execution_count": 4,
   "id": "96c64436",
   "metadata": {},
   "outputs": [],
   "source": [
    "def get_date_time(bs4_page):\n",
    "    details = bs4_page.find_all('div', class_='paragraph')\n",
    "    date = details[1].find('p').contents[0].split(': ')[1]\n",
    "    duration = details[2].find('p').contents[0].split(\": \")[1]\n",
    "    return(date, duration)"
   ]
  },
  {
   "cell_type": "code",
   "execution_count": 5,
   "id": "9a7e59fe",
   "metadata": {},
   "outputs": [],
   "source": [
    "def get_attendees(bs4_page):\n",
    "    if bs4_page.find_all('div', class_='sect3')[2].find('h4', id='_attendees') != None: #Did this because no projects were showcase in OTC 58\n",
    "        attendees_li = bs4_page.find_all('div', class_='sect3')[2].find('div', class_='ulist').find('ul').find_all('li')\n",
    "    else:\n",
    "        attendees_li = bs4_page.find_all('div', class_='sect3')[1].find('div', class_='ulist').find('ul').find_all('li')\n",
    "    attendees_list = []\n",
    "    for attendee in attendees_li:\n",
    "        if (attendee.find('p').find('a')==None):\n",
    "            attendees_list.append(attendee.find('p').contents[0])\n",
    "        else:\n",
    "            attendees_list.append(attendee.find('p').find('a').contents[0])\n",
    "    return ', '.join(attendees_list)"
   ]
  },
  {
   "cell_type": "code",
   "execution_count": 6,
   "id": "9cbe72e4",
   "metadata": {},
   "outputs": [],
   "source": [
    "def get_project_showcase_list(bs4_page):\n",
    "    if bs4_page.find_all('div', class_='sect3')[1].find('h4',id=\"_attendees\") != None: # Because OTC Catchup 58 does not have a projects section\n",
    "        project_showcase_list = []\n",
    "    else:\n",
    "        projects_li = bs4_page.find_all('div', class_='sect3')[1].find('div', class_='ulist').find('ul').find_all('li')\n",
    "        project_showcase_list = []\n",
    "        for project in projects_li:\n",
    "            if (project.find('p').find('a') == None):\n",
    "                project_showcase_list.append(project.find('p').contents[0])\n",
    "            else: \n",
    "                project_showcase_list.append(project.find('p').find('a').contents[0])\n",
    "    return ', '.join(project_showcase_list)"
   ]
  },
  {
   "cell_type": "code",
   "execution_count": 7,
   "id": "ea4d45ad",
   "metadata": {},
   "outputs": [],
   "source": [
    "def write_data(number, date, duration, attendees, projects):\n",
    "    with open(\"otc.csv\", \"a\", newline=\"\", encoding=\"utf-8\" ) as csv_file:\n",
    "        fieldnames = ['Number', 'Date', 'Duration', 'Attendees', 'Projects']\n",
    "        writer = csv.DictWriter(csv_file, fieldnames = fieldnames)\n",
    "        dict = {}\n",
    "        dict['Number'] = number\n",
    "        dict['Date'] = date\n",
    "        dict['Duration'] = duration\n",
    "        dict['Attendees'] = attendees\n",
    "        dict['Projects'] = projects\n",
    "        \n",
    "        writer.writerow(dict)\n",
    "    "
   ]
  },
  {
   "cell_type": "code",
   "execution_count": 8,
   "id": "b27bf828",
   "metadata": {},
   "outputs": [],
   "source": [
    "def scrape(start_number, end_number):\n",
    "    for i in range(start_number, end_number+1):\n",
    "        url = 'https://catchup.ourtech.community/summary/0'+ str(i)\n",
    "        session_requests = requests.session()\n",
    "        result = session_requests.get(url)\n",
    "        bs4_page = _BeautifulSoup(result.content, features=\"html.parser\")\n",
    "        number = get_number(bs4_page)\n",
    "        date, duration = get_date_time(bs4_page)\n",
    "        attendees_list = get_attendees(bs4_page)\n",
    "        project_showcase_list = get_project_showcase_list(bs4_page)\n",
    "        write_data(number, date, duration, attendees_list, project_showcase_list)"
   ]
  },
  {
   "cell_type": "code",
   "execution_count": 9,
   "id": "3470cbf5",
   "metadata": {},
   "outputs": [],
   "source": [
    "start_number = 54\n",
    "end_number = 63\n",
    "scrape(start_number, end_number)"
   ]
  },
  {
   "cell_type": "code",
   "execution_count": null,
   "id": "80ef9878",
   "metadata": {},
   "outputs": [],
   "source": []
  }
 ],
 "metadata": {
  "kernelspec": {
   "display_name": "Python 3 (ipykernel)",
   "language": "python",
   "name": "python3"
  },
  "language_info": {
   "codemirror_mode": {
    "name": "ipython",
    "version": 3
   },
   "file_extension": ".py",
   "mimetype": "text/x-python",
   "name": "python",
   "nbconvert_exporter": "python",
   "pygments_lexer": "ipython3",
   "version": "3.9.7"
  }
 },
 "nbformat": 4,
 "nbformat_minor": 5
}
